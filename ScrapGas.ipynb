{
 "cells": [
  {
   "cell_type": "code",
   "execution_count": 1,
   "metadata": {
    "collapsed": true
   },
   "outputs": [],
   "source": [
    "import requests,MySQLdb\n",
    "from bs4 import BeautifulSoup\n",
    "\n",
    "# con = MySQLdb.connect(\"localhost\",\"root\",\"\",\"GasDB\", use_unicode=True, charset=\"utf8\" )\n",
    "# cur=con.cursor()\n",
    "\n",
    "p_response=requests.get('http://then.gasbuddy.com/GB_Price_List.aspx?cntry=USA#us_cities')\n",
    "p_t=p_response.text\n",
    "# print(p_response.text)"
   ]
  },
  {
   "cell_type": "code",
   "execution_count": 3,
   "metadata": {
    "collapsed": true
   },
   "outputs": [],
   "source": [
    "p_s=BeautifulSoup(p_t, \"lxml\")\n",
    "p_tbody=p_s.findChildren('tbody')\n",
    "# print(len(tbody))\n",
    "# print(tbody[1])\n",
    "# print(len(tbody[1].findChildren('tr')))\n",
    "# print(tbody[1].findChildren('tr'))\n",
    "# print(tbody[1])\n",
    "#this is for states\n",
    "# print(tbody[0].findChildren('tr')[0].findChildren('td')[0].findChildren('a')[0]['href'])\n",
    "#this is for cities\n",
    "# print(tbody[1].findChildren('tr')[0].findChildren('td')[0].findChildren('a')[0]['href'])\n",
    "p_rows=p_tbody[1].findChildren('tr')\n",
    "p_links=[i.findChildren('td')[0].findChildren('a')[0]['href'] for i in p_rows]\n",
    "# f=open(\"links\",'w')\n",
    "# f.write(p_links)\n",
    "# f.close()\n",
    "# print(p_links)"
   ]
  },
  {
   "cell_type": "code",
   "execution_count": 1,
   "metadata": {},
   "outputs": [
    {
     "ename": "NameError",
     "evalue": "name 'p_links' is not defined",
     "output_type": "error",
     "traceback": [
      "\u001b[1;31m---------------------------------------------------------------------------\u001b[0m",
      "\u001b[1;31mNameError\u001b[0m                                 Traceback (most recent call last)",
      "\u001b[1;32m<ipython-input-1-be1e81357d86>\u001b[0m in \u001b[0;36m<module>\u001b[1;34m()\u001b[0m\n\u001b[0;32m      1\u001b[0m \u001b[0mcount\u001b[0m\u001b[1;33m=\u001b[0m\u001b[1;36m0\u001b[0m\u001b[1;33m\u001b[0m\u001b[0m\n\u001b[1;32m----> 2\u001b[1;33m \u001b[1;32mfor\u001b[0m \u001b[0mi\u001b[0m \u001b[1;32min\u001b[0m \u001b[0mp_links\u001b[0m\u001b[1;33m:\u001b[0m\u001b[1;33m\u001b[0m\u001b[0m\n\u001b[0m\u001b[0;32m      3\u001b[0m     \u001b[0mtemp\u001b[0m\u001b[1;33m=\u001b[0m\u001b[0mi\u001b[0m\u001b[1;33m\u001b[0m\u001b[0m\n\u001b[0;32m      4\u001b[0m \u001b[1;31m#     print(i)\u001b[0m\u001b[1;33m\u001b[0m\u001b[1;33m\u001b[0m\u001b[0m\n\u001b[0;32m      5\u001b[0m     \u001b[0mcount\u001b[0m\u001b[1;33m+=\u001b[0m\u001b[1;36m1\u001b[0m\u001b[1;33m\u001b[0m\u001b[0m\n",
      "\u001b[1;31mNameError\u001b[0m: name 'p_links' is not defined"
     ]
    }
   ],
   "source": [
    "count=0\n",
    "for i in p_links:\n",
    "    temp=i\n",
    "#     print(i)\n",
    "    count+=1\n",
    "    i+=\"/index.aspx?fuel=D\"\n",
    "    res=requests.get(i,verify=False)\n",
    "    text=res.text\n",
    "#     print(text)\n",
    "    s=BeautifulSoup(text,\"lxml\")\n",
    "    bodies=s.findChildren('tbody')\n",
    "#     print(bodies)\n",
    "    \n",
    "#     recCount=1\n",
    "    \n",
    "    for j in bodies:\n",
    "        for k in j.findChildren(\"tr\"):\n",
    "            price=''\n",
    "            brand=''\n",
    "            amenities=''\n",
    "            address=''\n",
    "            try:\n",
    "                price+=str(k.findChildren(\"th\")[0].findChildren(\"a\")[0].findChildren(\"div\")[0].string)\n",
    "                brand+=str(k.findChildren(\"td\")[0].findChildren(\"dl\")[0].findChildren(\"a\")[0].string)\n",
    "                link=temp+'/'+k.findChildren(\"td\")[0].findChildren(\"dl\")[0].findChildren(\"a\")[0]['href']\n",
    "                resDetail=requests.get(link,verify=False)\n",
    "                textDetail=resDetail.text\n",
    "                sDetail=BeautifulSoup(textDetail,\"lxml\")\n",
    "                #amenities work start\n",
    "                features=sDetail.find_all('div', class_ = 'sp_features')\n",
    "    #             print(features)\n",
    "    #                 pdb.set_trace()\n",
    "                features=features[0]\n",
    "\n",
    "    #             print(features)\n",
    "\n",
    "    #             features=features.findChildren('div')\n",
    "\n",
    "    #             print(len(features),features,features[2])\n",
    "\n",
    "    #             print(features[2])\n",
    "\n",
    "                features=features.findChildren('div')[2].findChildren('ul')[0].findChildren('li')\n",
    "\n",
    "    #             print(features)\n",
    "                for l in features:\n",
    "                    amenities+=','+l.string\n",
    "                \n",
    "                #amenities work end\n",
    "                \n",
    "\n",
    "#                 print(amenities)\n",
    "\n",
    "                address+=str(k.findChildren(\"td\")[0].findChildren(\"dl\")[0].findChildren(\"dd\")[0].string)\n",
    "                address += str(k.findChildren(\"td\")[2].findChildren(\"a\")[0].string)\n",
    "            except:\n",
    "                \n",
    "#                 print(\"hello\")\n",
    "                \n",
    "                continue\n",
    "            \n",
    "            cur=con.cursor()\n",
    "#             cur.execute(\"\"\"INSERT INTO tbl VALUES (%s,%s,%s)\"\"\",(price,brand,address))\n",
    "#             cur.execute(\"\"\"INSERT INTO diesel VALUES (%s,%s,%s)\"\"\",(price,brand,address))\n",
    "#             cur.execute(\"\"\"update gas set amenities = %s where id = %s \"\"\",(amenities,recCount))\n",
    "            #slicing because of remove starting comma\n",
    "            cur.execute(\"\"\"INSERT INTO diesel VALUES (%s,%s,%s,%s)\"\"\",(price,brand,address,amenities[1:]))\n",
    "            con.commit()\n",
    "#             recCount+=1\n",
    "            \n",
    "            \n",
    "#     if count>2:\n",
    "#         break\n",
    "\n",
    "\n",
    "    "
   ]
  },
  {
   "cell_type": "code",
   "execution_count": 12,
   "metadata": {
    "collapsed": true
   },
   "outputs": [],
   "source": [
    "\n",
    "con.close()"
   ]
  }
 ],
 "metadata": {
  "kernelspec": {
   "display_name": "Python 3",
   "language": "python",
   "name": "python3"
  },
  "language_info": {
   "codemirror_mode": {
    "name": "ipython",
    "version": 3
   },
   "file_extension": ".py",
   "mimetype": "text/x-python",
   "name": "python",
   "nbconvert_exporter": "python",
   "pygments_lexer": "ipython3",
   "version": "3.6.2"
  },
  "varInspector": {
   "cols": {
    "lenName": 16,
    "lenType": 16,
    "lenVar": 40
   },
   "kernels_config": {
    "python": {
     "delete_cmd_postfix": "",
     "delete_cmd_prefix": "del ",
     "library": "var_list.py",
     "varRefreshCmd": "print(var_dic_list())"
    },
    "r": {
     "delete_cmd_postfix": ") ",
     "delete_cmd_prefix": "rm(",
     "library": "var_list.r",
     "varRefreshCmd": "cat(var_dic_list()) "
    }
   },
   "types_to_exclude": [
    "module",
    "function",
    "builtin_function_or_method",
    "instance",
    "_Feature"
   ],
   "window_display": false
  }
 },
 "nbformat": 4,
 "nbformat_minor": 2
}
